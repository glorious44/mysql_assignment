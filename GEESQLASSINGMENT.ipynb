{
  "nbformat": 4,
  "nbformat_minor": 0,
  "metadata": {
    "colab": {
      "provenance": [],
      "authorship_tag": "ABX9TyM3bopcBD3ldZwXwSYAS7jp",
      "include_colab_link": true
    },
    "kernelspec": {
      "name": "python3",
      "display_name": "Python 3"
    },
    "language_info": {
      "name": "python"
    }
  },
  "cells": [
    {
      "cell_type": "markdown",
      "metadata": {
        "id": "view-in-github",
        "colab_type": "text"
      },
      "source": [
        "<a href=\"https://colab.research.google.com/github/glorious44/mysql_assignment/blob/main/GEESQLASSINGMENT.ipynb\" target=\"_parent\"><img src=\"https://colab.research.google.com/assets/colab-badge.svg\" alt=\"Open In Colab\"/></a>"
      ]
    },
    {
      "cell_type": "code",
      "source": [
        "import sqlite3\n",
        "from datetime import date\n",
        "#connect to (or create) the database file\n",
        "conn=sqlite3.connect(\"edu_institute.db\")\n",
        "cursor=conn.cursor()\n",
        "\n",
        "#create the students table\n",
        "cursor.execute(\"\"\"\n",
        "CREATE TABLE IF NOT EXISTS students\n",
        "(student_id INTEGER PRIMARY KEY,\n",
        " name TEXT,\n",
        " age INTEGER,\n",
        " gender TEXT,\n",
        " enrollment_date DATE,\n",
        " program TEXT\n",
        ");\n",
        "\"\"\")\n",
        "\n",
        "conn.commit()\n",
        "print (\"Table created successfully\")"
      ],
      "metadata": {
        "colab": {
          "base_uri": "https://localhost:8080/"
        },
        "id": "UnTop_rUFEj2",
        "outputId": "866d994f-7993-4dbe-d034-80cb374e425b"
      },
      "execution_count": 49,
      "outputs": [
        {
          "output_type": "stream",
          "name": "stdout",
          "text": [
            "Table created successfully\n"
          ]
        }
      ]
    },
    {
      "cell_type": "code",
      "source": [
        "#insert students records\n",
        "students_data= [\n",
        "    (1, 'Glow',23,'F','2023-09-01','Data Science'),\n",
        "    (2, 'Jim',27,'M','2022-08-01','Cyber Security'),\n",
        "    (3, 'Jane',19, 'F','2024-01-15', 'Data Science'),\n",
        "    (4, 'Davie',25,'M','2025-05-10','Project Manager'),\n",
        "    (5,'Ann',18,'F','2025-07-18','Web Development'),\n",
        "    (6,'Frank',21,'M','2024-08-10','Data Science'),\n",
        "\n",
        "]\n",
        "\n",
        "# Clear existing records to avoid IntegrityError on re-execution\n",
        "cursor.execute(\"DELETE FROM students;\")\n",
        "\n",
        "cursor.executemany(\"\"\"\n",
        "INSERT INTO students(student_id,name,age,gender,enrollment_date,program)\n",
        "VALUES(?,?,?,?,?,?)\n",
        "\"\"\",students_data)\n",
        "conn.commit()\n",
        "print(\"Students records inserted successfully\")"
      ],
      "metadata": {
        "colab": {
          "base_uri": "https://localhost:8080/"
        },
        "id": "zhdfD7JyL9lG",
        "outputId": "a724e5fb-0623-4563-ab49-d738e207f9cb"
      },
      "execution_count": 50,
      "outputs": [
        {
          "output_type": "stream",
          "name": "stdout",
          "text": [
            "Students records inserted successfully\n"
          ]
        }
      ]
    },
    {
      "cell_type": "code",
      "source": [
        "# 3.1 students in data science\n",
        "print(\"3.1 Students in Data Science:\")\n",
        "cursor.execute(\"\"\"\n",
        "SELECT * FROM students\n",
        "WHERE program='Data Science';\n",
        "\"\"\")\n",
        "print(cursor.fetchall())\n",
        "\n"
      ],
      "metadata": {
        "colab": {
          "base_uri": "https://localhost:8080/"
        },
        "id": "jEIhcyDYQYcr",
        "outputId": "deb96d16-1642-4f94-dfb1-fa1a8a7455aa"
      },
      "execution_count": 51,
      "outputs": [
        {
          "output_type": "stream",
          "name": "stdout",
          "text": [
            "3.1 Students in Data Science:\n",
            "[(1, 'Glow', 23, 'F', '2023-09-01', 'Data Science'), (3, 'Jane', 19, 'F', '2024-01-15', 'Data Science'), (6, 'Frank', 21, 'M', '2024-08-10', 'Data Science')]\n"
          ]
        }
      ]
    },
    {
      "cell_type": "code",
      "source": [
        "#total number of students\n",
        "print(\"\\n3.2 Total number of students:\")\n",
        "cursor.execute(\"\"\"\n",
        "SELECT COUNT(*) AS 'Total students' FROM students;\n",
        "\"\"\")\n",
        "print(cursor.fetchall())"
      ],
      "metadata": {
        "colab": {
          "base_uri": "https://localhost:8080/"
        },
        "id": "N0k9AC12Y2Cr",
        "outputId": "f7db9614-2461-42d7-957e-ccb167edc37b"
      },
      "execution_count": 52,
      "outputs": [
        {
          "output_type": "stream",
          "name": "stdout",
          "text": [
            "\n",
            "3.2 Total number of students:\n",
            "[(6,)]\n"
          ]
        }
      ]
    },
    {
      "cell_type": "code",
      "source": [
        "# show current date\n",
        "print(\"\\n4.1 current date:\")\n",
        "cursor.execute(\"SELECT DATE('now') 'current date';\")\n",
        "print(cursor.fetchall())"
      ],
      "metadata": {
        "colab": {
          "base_uri": "https://localhost:8080/"
        },
        "id": "OxbL59WlaKbS",
        "outputId": "d37226d1-94c2-4310-f7cf-83cf84ad15d9"
      },
      "execution_count": 53,
      "outputs": [
        {
          "output_type": "stream",
          "name": "stdout",
          "text": [
            "\n",
            "4.1 current date:\n",
            "[('2025-07-18',)]\n"
          ]
        }
      ]
    },
    {
      "cell_type": "code",
      "source": [
        "#uppercasenames with enrolment date\n",
        "print (\"\\n4.2 Names in uppercase with enrollment dates:\")\n",
        "cursor.execute(\"\"\"\n",
        "SELECT UPPER(name) AS 'Name',\n",
        "enrollment_date FROM students;\n",
        "\"\"\")\n",
        "print(cursor.fetchall())"
      ],
      "metadata": {
        "colab": {
          "base_uri": "https://localhost:8080/"
        },
        "id": "0NDWM-5Bb74v",
        "outputId": "b09f2a1f-ad9c-4f79-a78d-ea09cd56bdd3"
      },
      "execution_count": 54,
      "outputs": [
        {
          "output_type": "stream",
          "name": "stdout",
          "text": [
            "\n",
            "4.2 Names in uppercase with enrollment dates:\n",
            "[('GLOW', '2023-09-01'), ('JIM', '2022-08-01'), ('JANE', '2024-01-15'), ('DAVIE', '2025-05-10'), ('ANN', '2025-07-18'), ('FRANK', '2024-08-10')]\n"
          ]
        }
      ]
    },
    {
      "cell_type": "code",
      "source": [
        "#count number of students per program in desending order\n",
        "print(\"\\n5.1 student count per program:\")\n",
        "cursor.execute(\"\"\"\n",
        "SELECT program, COUNT(*) AS ' Number of Students'\n",
        "FROM students\n",
        "GROUP BY program\n",
        "ORDER BY COUNT (*)DESC;\n",
        "\"\"\")\n",
        "print(cursor.fetchall())\n"
      ],
      "metadata": {
        "colab": {
          "base_uri": "https://localhost:8080/"
        },
        "id": "57N6XkDvc0zx",
        "outputId": "5f88174c-62cf-4e2f-d40a-04bf0d6948fe"
      },
      "execution_count": 55,
      "outputs": [
        {
          "output_type": "stream",
          "name": "stdout",
          "text": [
            "\n",
            "5.1 student count per program:\n",
            "[('Data Science', 3), ('Web Development', 1), ('Project Manager', 1), ('Cyber Security', 1)]\n"
          ]
        }
      ]
    },
    {
      "cell_type": "code",
      "source": [
        "#youngest students name and age\n",
        "print(\"\\n5.2 Youngest student name and age:\")\n",
        "cursor.execute(\"\"\"\n",
        "SELECT name, MIN(age) AS 'Youngest Age'\n",
        "FROM students;\n",
        "\"\"\")\n",
        "print(cursor.fetchall())"
      ],
      "metadata": {
        "colab": {
          "base_uri": "https://localhost:8080/"
        },
        "id": "TdSqOWM-ej1J",
        "outputId": "debf3d15-3d9f-44d7-bc68-aca07d4fc0e1"
      },
      "execution_count": 56,
      "outputs": [
        {
          "output_type": "stream",
          "name": "stdout",
          "text": [
            "\n",
            "5.2 Youngest student name and age:\n",
            "[('Ann', 18)]\n"
          ]
        }
      ]
    },
    {
      "cell_type": "code",
      "metadata": {
        "id": "6wRQAu9Ge2ku"
      },
      "source": [
        "conn.close()"
      ],
      "execution_count": 30,
      "outputs": []
    }
  ]
}