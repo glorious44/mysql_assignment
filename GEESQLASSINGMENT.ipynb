{
  "nbformat": 4,
  "nbformat_minor": 0,
  "metadata": {
    "colab": {
      "provenance": [],
      "authorship_tag": "ABX9TyNsOw0ONS+WIa2Yr+Tyt/XJ",
      "include_colab_link": true
    },
    "kernelspec": {
      "name": "python3",
      "display_name": "Python 3"
    },
    "language_info": {
      "name": "python"
    }
  },
  "cells": [
    {
      "cell_type": "markdown",
      "metadata": {
        "id": "view-in-github",
        "colab_type": "text"
      },
      "source": [
        "<a href=\"https://colab.research.google.com/github/glorious44/mysql_assignment/blob/main/GEESQLASSINGMENT.ipynb\" target=\"_parent\"><img src=\"https://colab.research.google.com/assets/colab-badge.svg\" alt=\"Open In Colab\"/></a>"
      ]
    },
    {
      "cell_type": "code",
      "source": [
        "import sqlite3\n",
        "from datetime import date\n",
        "#connect to (or create) the database file\n",
        "conn=sqlite3.connect(\"edu_institute.db\")\n",
        "cursor=conn.cursor()\n",
        "\n",
        "#create the students table\n",
        "cursor.execute(\"\"\"\n",
        "CREATE TABLE IF NOT EXISTS students\n",
        "(student_id INTEGER PRIMARY KEY,\n",
        " name TEXT,\n",
        " age INTEGER,\n",
        " gender TEXT,\n",
        " enrollment_date DATE,\n",
        " program TEXT\n",
        ");\n",
        "\"\"\")\n",
        "\n",
        "conn.commit()\n",
        "print (\"Table created successfully\")"
      ],
      "metadata": {
        "colab": {
          "base_uri": "https://localhost:8080/"
        },
        "id": "UnTop_rUFEj2",
        "outputId": "ef3a9478-3aec-427e-a4d8-46d9533ef33c"
      },
      "execution_count": 28,
      "outputs": [
        {
          "output_type": "stream",
          "name": "stdout",
          "text": [
            "Table created successfully\n"
          ]
        }
      ]
    },
    {
      "cell_type": "code",
      "source": [
        "#insert students records\n",
        "students_data= [\n",
        "    (1, 'Alice',22,'F','2023-09-01','Data Science'),\n",
        "    (2, 'Bob',20,'M','2022-09-01','Cyber Security'),\n",
        "    (3, 'Carol',19, 'F','2024-01-15', 'Data Science'),\n",
        "    (4, 'Dave',23,'M','2023-06-10','AI Engineer'),\n",
        "    (5,'Eve',18,'F','2025-02-20','Web Development'),\n",
        "    (6,'Frank',21,'M','2024-08-10','Data Science'),\n",
        "\n",
        "]\n",
        "\n",
        "# Clear existing records to avoid IntegrityError on re-execution\n",
        "cursor.execute(\"DELETE FROM students;\")\n",
        "\n",
        "cursor.executemany(\"\"\"\n",
        "INSERT INTO students(student_id,name,age,gender,enrollment_date,program)\n",
        "VALUES(?,?,?,?,?,?)\n",
        "\"\"\",students_data)\n",
        "conn.commit()\n",
        "print(\"Students records inserted successfully\")"
      ],
      "metadata": {
        "colab": {
          "base_uri": "https://localhost:8080/"
        },
        "id": "zhdfD7JyL9lG",
        "outputId": "9b5f25da-e226-4d5a-b3ce-615d4921f135"
      },
      "execution_count": 8,
      "outputs": [
        {
          "output_type": "stream",
          "name": "stdout",
          "text": [
            "Students records inserted successfully\n"
          ]
        }
      ]
    },
    {
      "cell_type": "code",
      "source": [
        "# 3.1 students in data science\n",
        "print(\"3.1 Students in Data Science:\")\n",
        "cursor.execute(\"\"\"\n",
        "SELECT * FROM students\n",
        "WHERE program='Data Science';\n",
        "\"\"\")\n",
        "print(cursor.fetchall())\n",
        "\n"
      ],
      "metadata": {
        "colab": {
          "base_uri": "https://localhost:8080/"
        },
        "id": "jEIhcyDYQYcr",
        "outputId": "8f0704d8-88a9-4c51-ed3f-a3c591423854"
      },
      "execution_count": 9,
      "outputs": [
        {
          "output_type": "stream",
          "name": "stdout",
          "text": [
            "3.1 Students in Data Science:\n",
            "[(1, 'Alice', 22, 'F', '2023-09-01', 'Data Science'), (3, 'Carol', 19, 'F', '2024-01-15', 'Data Science'), (6, 'Frank', 21, 'M', '2024-08-10', 'Data Science')]\n"
          ]
        }
      ]
    },
    {
      "cell_type": "code",
      "source": [
        "#total number of students\n",
        "print(\"\\n3.2 Total number of students:\")\n",
        "cursor.execute(\"\"\"\n",
        "SELECT COUNT(*) AS 'Total students' FROM students;\n",
        "\"\"\")\n",
        "print(cursor.fetchall())"
      ],
      "metadata": {
        "colab": {
          "base_uri": "https://localhost:8080/"
        },
        "id": "N0k9AC12Y2Cr",
        "outputId": "38cde3ee-226f-4d37-efaf-b95d3bb2bdce"
      },
      "execution_count": 10,
      "outputs": [
        {
          "output_type": "stream",
          "name": "stdout",
          "text": [
            "\n",
            "3.2 Total number of students:\n",
            "[(6,)]\n"
          ]
        }
      ]
    },
    {
      "cell_type": "code",
      "source": [
        "# show current date\n",
        "print(\"\\n4.1 current date:\")\n",
        "cursor.execute(\"SELECT DATE('now') 'current date';\")\n",
        "print(cursor.fetchall())"
      ],
      "metadata": {
        "colab": {
          "base_uri": "https://localhost:8080/"
        },
        "id": "OxbL59WlaKbS",
        "outputId": "e8082e8a-6e5f-4266-bf4c-4cdfcd215a96"
      },
      "execution_count": 14,
      "outputs": [
        {
          "output_type": "stream",
          "name": "stdout",
          "text": [
            "\n",
            "4.1 current date:\n",
            "[('2025-07-18',)]\n"
          ]
        }
      ]
    },
    {
      "cell_type": "code",
      "source": [
        "#uppercasenames with enrolment date\n",
        "print (\"\\n4.2 Names in uppercase with enrollment dates:\")\n",
        "cursor.execute(\"\"\"\n",
        "SELECT UPPER(name) AS 'Name',\n",
        "enrollment_date FROM students;\n",
        "\"\"\")\n",
        "print(cursor.fetchall())"
      ],
      "metadata": {
        "colab": {
          "base_uri": "https://localhost:8080/"
        },
        "id": "0NDWM-5Bb74v",
        "outputId": "5874639d-66a5-4e26-f176-a0171b9295e3"
      },
      "execution_count": 17,
      "outputs": [
        {
          "output_type": "stream",
          "name": "stdout",
          "text": [
            "\n",
            "4.2 Names in uppercase with enrollment dates:\n",
            "[('ALICE', '2023-09-01'), ('BOB', '2022-09-01'), ('CAROL', '2024-01-15'), ('DAVE', '2023-06-10'), ('EVE', '2025-02-20'), ('FRANK', '2024-08-10')]\n"
          ]
        }
      ]
    },
    {
      "cell_type": "code",
      "source": [
        "#count number of students per program in desending order\n",
        "print(\"\\n5.1 student count per program:\")\n",
        "cursor.execute(\"\"\"\n",
        "SELECT program, COUNT(*) AS ' Number of Students'\n",
        "FROM students\n",
        "GROUP BY program\n",
        "ORDER BY COUNT (*)DESC;\n",
        "\"\"\")\n",
        "print(cursor.fetchall())\n"
      ],
      "metadata": {
        "colab": {
          "base_uri": "https://localhost:8080/"
        },
        "id": "57N6XkDvc0zx",
        "outputId": "8843e2e2-90cb-4ee0-c6ad-1ccdbc970ac0"
      },
      "execution_count": 18,
      "outputs": [
        {
          "output_type": "stream",
          "name": "stdout",
          "text": [
            "\n",
            "5.1 student count per program:\n",
            "[('Data Science', 3), ('Web Development', 1), ('Cyber Security', 1), ('AI Engineer', 1)]\n"
          ]
        }
      ]
    },
    {
      "cell_type": "code",
      "source": [
        "#youngest students name and age\n",
        "print(\"\\n5.2 Youngest student name and age:\")\n",
        "cursor.execute(\"\"\"\n",
        "SELECT name, MIN(age) AS 'Youngest Age'\n",
        "FROM students;\n",
        "\"\"\")\n",
        "print(cursor.fetchall())"
      ],
      "metadata": {
        "colab": {
          "base_uri": "https://localhost:8080/"
        },
        "id": "TdSqOWM-ej1J",
        "outputId": "b22718ff-634d-4338-8088-124a32cd962a"
      },
      "execution_count": 29,
      "outputs": [
        {
          "output_type": "stream",
          "name": "stdout",
          "text": [
            "\n",
            "5.2 Youngest student name and age:\n",
            "[('Eve', 18)]\n"
          ]
        }
      ]
    },
    {
      "cell_type": "code",
      "metadata": {
        "id": "6wRQAu9Ge2ku"
      },
      "source": [
        "conn.close()"
      ],
      "execution_count": 30,
      "outputs": []
    }
  ]
}